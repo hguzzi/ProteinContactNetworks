{
 "cells": [
  {
   "cell_type": "markdown",
   "metadata": {},
   "source": [
    "# THIS NOTEBOOK CONTAINS AN EXAMPLE OF A EMBEDDING + CLUSTERING ALGORITHM, IN THIS CASE LAPLACIANEIGENMAPS+KMEANS, APPLIED TO A Protein Contact Network OF THE SARSCOV2 SPIKE PROTEIN"
   ]
  },
  {
   "cell_type": "code",
   "execution_count": 3,
   "metadata": {},
   "outputs": [],
   "source": [
    "from pcn.pcn_miner import pcn_miner, pcn_pymol_scripts\n",
    "import numpy as np\n",
    "from sys import platform\n",
    "import subprocess\n",
    "import networkx as nx\n",
    "import os"
   ]
  },
  {
   "cell_type": "code",
   "execution_count": 2,
   "metadata": {},
   "outputs": [],
   "source": [
    "output_path = \"\"\n",
    "adj_path = \"Adj\\\\\""
   ]
  },
  {
   "cell_type": "code",
   "execution_count": 3,
   "metadata": {},
   "outputs": [
    {
     "name": "stdout",
     "output_type": "stream",
     "text": [
      "Start Reading PDB\n",
      "\n",
      "2022-04-21 11:44:51.371316\n",
      "End Reading PDB\n",
      "\n",
      "2022-04-21 11:44:51.420182\n"
     ]
    },
    {
     "data": {
      "text/plain": [
       "array([['ALA27 A',\n",
       "        array([' 172.298', ' 252.181', ' 223.613'], dtype='<U8')],\n",
       "       ['TYR28 A',\n",
       "        array([' 174.968', ' 250.129', ' 221.763'], dtype='<U8')],\n",
       "       ['THR29 A',\n",
       "        array([' 177.648', ' 250.850', ' 219.220'], dtype='<U8')],\n",
       "       ...,\n",
       "       ['LEU1145 C',\n",
       "        array([' 213.878', ' 212.413', ' 120.414'], dtype='<U8')],\n",
       "       ['ASP1146 C',\n",
       "        array([' 216.645', ' 214.563', ' 118.918'], dtype='<U8')],\n",
       "       ['SER1147 C',\n",
       "        array([' 218.576', ' 211.497', ' 117.584'], dtype='<U8')]],\n",
       "      dtype=object)"
      ]
     },
     "execution_count": 3,
     "metadata": {},
     "output_type": "execute_result"
    }
   ],
   "source": [
    "protein = \"6vxx\"\n",
    "protein_path = \"{}.pdb\".format(protein)\n",
    "atoms = pcn_miner.readPDBFile(protein_path) #read \n",
    "coordinates = pcn_miner.getResidueCoordinates(atoms)\n",
    "coordinates"
   ]
  },
  {
   "cell_type": "code",
   "execution_count": 4,
   "metadata": {},
   "outputs": [
    {
     "data": {
      "text/plain": [
       "array([['0', 'ALA27 A'],\n",
       "       ['1', 'TYR28 A'],\n",
       "       ['2', 'THR29 A'],\n",
       "       ...,\n",
       "       ['2913', 'LEU1145 C'],\n",
       "       ['2914', 'ASP1146 C'],\n",
       "       ['2915', 'SER1147 C']], dtype='<U9')"
      ]
     },
     "execution_count": 4,
     "metadata": {},
     "output_type": "execute_result"
    }
   ],
   "source": [
    "dict_residue_name = pcn_miner.associateResidueName(coordinates)\n",
    "residue_names = np.array(list (dict_residue_name.items()))\n",
    "residue_names"
   ]
  },
  {
   "cell_type": "code",
   "execution_count": 5,
   "metadata": {},
   "outputs": [
    {
     "name": "stdout",
     "output_type": "stream",
     "text": [
      "saved distances matrix████████████████████████████████████████████████████████████████████████████████| Current progress: 100.00%\n",
      "saved edge list\n",
      "saved adj matrix\n"
     ]
    },
    {
     "data": {
      "text/plain": [
       "array([[0., 0., 1., ..., 0., 0., 0.],\n",
       "       [0., 0., 0., ..., 0., 0., 0.],\n",
       "       [1., 0., 0., ..., 0., 0., 0.],\n",
       "       ...,\n",
       "       [0., 0., 0., ..., 0., 0., 1.],\n",
       "       [0., 0., 0., ..., 0., 0., 0.],\n",
       "       [0., 0., 0., ..., 1., 0., 0.]])"
      ]
     },
     "execution_count": 5,
     "metadata": {},
     "output_type": "execute_result"
    }
   ],
   "source": [
    "A = pcn_miner.adjacent_matrix(output_path, coordinates, protein, 4, 8)\n",
    "A"
   ]
  },
  {
   "cell_type": "code",
   "execution_count": 6,
   "metadata": {},
   "outputs": [
    {
     "name": "stdout",
     "output_type": "stream",
     "text": [
      "Laplacian matrix recon. error (low rank): 57.350107\n"
     ]
    },
    {
     "data": {
      "text/plain": [
       "array([8, 8, 4, ..., 2, 2, 2])"
      ]
     },
     "execution_count": 6,
     "metadata": {},
     "output_type": "execute_result"
    }
   ],
   "source": [
    "k = 14\n",
    "d = 128\n",
    "lem_km_labels = pcn_miner.kmeans_laplacianeigenmaps(A, k, d)\n",
    "lem_km_labels"
   ]
  }
 ],
 "metadata": {
  "kernelspec": {
   "display_name": "Python 3",
   "language": "python",
   "name": "python3"
  },
  "language_info": {
   "codemirror_mode": {
    "name": "ipython",
    "version": 3
   },
   "file_extension": ".py",
   "mimetype": "text/x-python",
   "name": "python",
   "nbconvert_exporter": "python",
   "pygments_lexer": "ipython3",
   "version": "3.8.3"
  }
 },
 "nbformat": 4,
 "nbformat_minor": 4
}
