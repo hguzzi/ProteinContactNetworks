{
 "cells": [
  {
   "cell_type": "markdown",
   "metadata": {},
   "source": [
    "# THIS NOTEBOOK CONTAINS AN EXAMPLE OF A EMBEDDING + CLUSTERING ALGORITHM, IN THIS CASE LAPLACIANEIGENMAPS+KMEANS, APPLIED TO A Protein Contact Network OF THE SARSCOV2 SPIKE PROTEIN"
   ]
  },
  {
   "cell_type": "code",
   "execution_count": 1,
   "metadata": {},
   "outputs": [
    {
     "name": "stdout",
     "output_type": "stream",
     "text": [
      "Package             Version\n",
      "------------------- ----------\n",
      "angel-cd            1.0.3\n",
      "appdirs             1.4.4\n",
      "bimlpa              0.1.2\n",
      "cdlib               0.2.6\n",
      "certifi             2021.10.8\n",
      "charset-normalizer  2.0.12\n",
      "chinese-whispers    0.8.0\n",
      "click               7.1.2\n",
      "colorama            0.4.4\n",
      "cycler              0.11.0\n",
      "Cython              0.29.23\n",
      "decorator           5.1.1\n",
      "demon               2.0.6\n",
      "dynetx              0.3.1\n",
      "eva-lcd             0.1.1\n",
      "fonttools           4.32.0\n",
      "future              0.18.2\n",
      "fuzzy-c-means       1.6.3\n",
      "gem                 1.0.0\n",
      "gensim              4.1.2\n",
      "idna                3.3\n",
      "igraph              0.9.10\n",
      "joblib              1.1.0\n",
      "Keras               2.0.2\n",
      "kiwisolver          1.4.2\n",
      "markov-clustering   0.0.6.dev0\n",
      "matplotlib          3.5.1\n",
      "networkx            2.4\n",
      "nf1                 0.0.4\n",
      "node2vec            0.4.3\n",
      "numpy               1.22.3\n",
      "packaging           21.3\n",
      "pandas              1.4.2\n",
      "PCN-Miner           1.0.0\n",
      "Pillow              9.1.0\n",
      "pip                 22.0.4\n",
      "pooch               1.6.0\n",
      "PuLP                2.6.0\n",
      "pyclustering        0.10.1.2\n",
      "pydantic            1.9.0\n",
      "pyparsing           3.0.8\n",
      "python-dateutil     2.8.2\n",
      "python-igraph       0.9.10\n",
      "python-Levenshtein  0.12.2\n",
      "python-louvain      0.16\n",
      "pytz                2022.1\n",
      "PyYAML              6.0\n",
      "regex               2022.3.15\n",
      "requests            2.27.1\n",
      "scikit-learn        1.0.2\n",
      "scipy               1.8.0\n",
      "seaborn             0.11.2\n",
      "setuptools          62.1.0\n",
      "six                 1.16.0\n",
      "smart-open          5.2.1\n",
      "tabulate            0.8.9\n",
      "texttable           1.6.4\n",
      "Theano              1.0.5\n",
      "threadpoolctl       3.1.0\n",
      "thresholdclustering 1.1\n",
      "tqdm                4.64.0\n",
      "typer               0.3.2\n",
      "typing_extensions   4.2.0\n",
      "urllib3             1.26.9\n",
      "wheel               0.37.1\n"
     ]
    }
   ],
   "source": [
    "!pip list"
   ]
  },
  {
   "cell_type": "code",
   "execution_count": 3,
   "metadata": {},
   "outputs": [
    {
     "ename": "SyntaxError",
     "evalue": "invalid syntax (<ipython-input-3-cebea9cddf52>, line 1)",
     "output_type": "error",
     "traceback": [
      "\u001b[1;36m  File \u001b[1;32m\"<ipython-input-3-cebea9cddf52>\"\u001b[1;36m, line \u001b[1;32m1\u001b[0m\n\u001b[1;33m    from pcn.pcn_miner\u001b[0m\n\u001b[1;37m                      ^\u001b[0m\n\u001b[1;31mSyntaxError\u001b[0m\u001b[1;31m:\u001b[0m invalid syntax\n"
     ]
    }
   ],
   "source": [
    "from pcn.pcn_miner import "
   ]
  },
  {
   "cell_type": "code",
   "execution_count": 2,
   "metadata": {},
   "outputs": [
    {
     "ename": "ModuleNotFoundError",
     "evalue": "No module named 'pcn_miner'",
     "output_type": "error",
     "traceback": [
      "\u001b[1;31m---------------------------------------------------------------------------\u001b[0m",
      "\u001b[1;31mModuleNotFoundError\u001b[0m                       Traceback (most recent call last)",
      "\u001b[1;32m<ipython-input-2-3ea6482dae69>\u001b[0m in \u001b[0;36m<module>\u001b[1;34m\u001b[0m\n\u001b[1;32m----> 1\u001b[1;33m \u001b[1;32mfrom\u001b[0m \u001b[0mpcn_miner\u001b[0m \u001b[1;32mimport\u001b[0m \u001b[0mpcn_miner\u001b[0m\u001b[1;33m,\u001b[0m \u001b[0mpcn_pymol_scripts\u001b[0m\u001b[1;33m\u001b[0m\u001b[1;33m\u001b[0m\u001b[0m\n\u001b[0m\u001b[0;32m      2\u001b[0m \u001b[1;32mimport\u001b[0m \u001b[0mnumpy\u001b[0m \u001b[1;32mas\u001b[0m \u001b[0mnp\u001b[0m\u001b[1;33m\u001b[0m\u001b[1;33m\u001b[0m\u001b[0m\n\u001b[0;32m      3\u001b[0m \u001b[1;32mfrom\u001b[0m \u001b[0msys\u001b[0m \u001b[1;32mimport\u001b[0m \u001b[0mplatform\u001b[0m\u001b[1;33m\u001b[0m\u001b[1;33m\u001b[0m\u001b[0m\n\u001b[0;32m      4\u001b[0m \u001b[1;32mimport\u001b[0m \u001b[0msubprocess\u001b[0m\u001b[1;33m\u001b[0m\u001b[1;33m\u001b[0m\u001b[0m\n\u001b[0;32m      5\u001b[0m \u001b[1;32mimport\u001b[0m \u001b[0mnetworkx\u001b[0m \u001b[1;32mas\u001b[0m \u001b[0mnx\u001b[0m\u001b[1;33m\u001b[0m\u001b[1;33m\u001b[0m\u001b[0m\n",
      "\u001b[1;31mModuleNotFoundError\u001b[0m: No module named 'pcn_miner'"
     ]
    }
   ],
   "source": [
    "from pcn_miner import pcn_miner, pcn_pymol_scripts\n",
    "import numpy as np\n",
    "from sys import platform\n",
    "import subprocess\n",
    "import networkx as nx\n",
    "import os"
   ]
  },
  {
   "cell_type": "code",
   "execution_count": 2,
   "metadata": {},
   "outputs": [],
   "source": [
    "output_path = \"\"\n",
    "adj_path = \"Adj\\\\\""
   ]
  },
  {
   "cell_type": "code",
   "execution_count": 3,
   "metadata": {},
   "outputs": [
    {
     "name": "stdout",
     "output_type": "stream",
     "text": [
      "Start Reading PDB\n",
      "\n",
      "2022-04-21 11:44:51.371316\n",
      "End Reading PDB\n",
      "\n",
      "2022-04-21 11:44:51.420182\n"
     ]
    },
    {
     "data": {
      "text/plain": [
       "array([['ALA27 A',\n",
       "        array([' 172.298', ' 252.181', ' 223.613'], dtype='<U8')],\n",
       "       ['TYR28 A',\n",
       "        array([' 174.968', ' 250.129', ' 221.763'], dtype='<U8')],\n",
       "       ['THR29 A',\n",
       "        array([' 177.648', ' 250.850', ' 219.220'], dtype='<U8')],\n",
       "       ...,\n",
       "       ['LEU1145 C',\n",
       "        array([' 213.878', ' 212.413', ' 120.414'], dtype='<U8')],\n",
       "       ['ASP1146 C',\n",
       "        array([' 216.645', ' 214.563', ' 118.918'], dtype='<U8')],\n",
       "       ['SER1147 C',\n",
       "        array([' 218.576', ' 211.497', ' 117.584'], dtype='<U8')]],\n",
       "      dtype=object)"
      ]
     },
     "execution_count": 3,
     "metadata": {},
     "output_type": "execute_result"
    }
   ],
   "source": [
    "protein = \"6vxx\"\n",
    "protein_path = \"{}.pdb\".format(protein)\n",
    "atoms = pcn_miner.readPDBFile(protein_path) #read \n",
    "coordinates = pcn_miner.getResidueCoordinates(atoms)\n",
    "coordinates"
   ]
  },
  {
   "cell_type": "code",
   "execution_count": 4,
   "metadata": {},
   "outputs": [
    {
     "data": {
      "text/plain": [
       "array([['0', 'ALA27 A'],\n",
       "       ['1', 'TYR28 A'],\n",
       "       ['2', 'THR29 A'],\n",
       "       ...,\n",
       "       ['2913', 'LEU1145 C'],\n",
       "       ['2914', 'ASP1146 C'],\n",
       "       ['2915', 'SER1147 C']], dtype='<U9')"
      ]
     },
     "execution_count": 4,
     "metadata": {},
     "output_type": "execute_result"
    }
   ],
   "source": [
    "dict_residue_name = pcn_miner.associateResidueName(coordinates)\n",
    "residue_names = np.array(list (dict_residue_name.items()))\n",
    "residue_names"
   ]
  },
  {
   "cell_type": "code",
   "execution_count": 5,
   "metadata": {},
   "outputs": [
    {
     "name": "stdout",
     "output_type": "stream",
     "text": [
      "saved distances matrix████████████████████████████████████████████████████████████████████████████████| Current progress: 100.00%\n",
      "saved edge list\n",
      "saved adj matrix\n"
     ]
    },
    {
     "data": {
      "text/plain": [
       "array([[0., 0., 1., ..., 0., 0., 0.],\n",
       "       [0., 0., 0., ..., 0., 0., 0.],\n",
       "       [1., 0., 0., ..., 0., 0., 0.],\n",
       "       ...,\n",
       "       [0., 0., 0., ..., 0., 0., 1.],\n",
       "       [0., 0., 0., ..., 0., 0., 0.],\n",
       "       [0., 0., 0., ..., 1., 0., 0.]])"
      ]
     },
     "execution_count": 5,
     "metadata": {},
     "output_type": "execute_result"
    }
   ],
   "source": [
    "A = pcn_miner.adjacent_matrix(output_path, coordinates, protein, 4, 8)\n",
    "A"
   ]
  },
  {
   "cell_type": "code",
   "execution_count": 6,
   "metadata": {},
   "outputs": [
    {
     "name": "stdout",
     "output_type": "stream",
     "text": [
      "Laplacian matrix recon. error (low rank): 57.350107\n"
     ]
    },
    {
     "data": {
      "text/plain": [
       "array([8, 8, 4, ..., 2, 2, 2])"
      ]
     },
     "execution_count": 6,
     "metadata": {},
     "output_type": "execute_result"
    }
   ],
   "source": [
    "k = 14\n",
    "d = 128\n",
    "lem_km_labels = pcn_miner.kmeans_laplacianeigenmaps(A, k, d)\n",
    "lem_km_labels"
   ]
  }
 ],
 "metadata": {
  "kernelspec": {
   "display_name": "Python 3",
   "language": "python",
   "name": "python3"
  },
  "language_info": {
   "codemirror_mode": {
    "name": "ipython",
    "version": 3
   },
   "file_extension": ".py",
   "mimetype": "text/x-python",
   "name": "python",
   "nbconvert_exporter": "python",
   "pygments_lexer": "ipython3",
   "version": "3.8.3"
  }
 },
 "nbformat": 4,
 "nbformat_minor": 4
}
